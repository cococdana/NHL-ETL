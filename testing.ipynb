{
 "cells": [
  {
   "cell_type": "code",
   "execution_count": 14,
   "id": "24aa4ec8",
   "metadata": {},
   "outputs": [
    {
     "name": "stdout",
     "output_type": "stream",
     "text": [
      "Notebook playerStats has been run. Choose a team ID and season to be inputted in the pipeline. For example run {getStatsForPerson('8476792', '20172018')}\n"
     ]
    }
   ],
   "source": [
    "%run playerStats.ipynb"
   ]
  },
  {
   "cell_type": "code",
   "execution_count": 15,
   "id": "8b5f0eaf",
   "metadata": {},
   "outputs": [
    {
     "name": "stdout",
     "output_type": "stream",
     "text": [
      "Notebook teamStats has been run. Choose a team ID and season to be inputted in the pipeline. For example run {getStatsForYear('2', '20172018')}\n"
     ]
    }
   ],
   "source": [
    "%run teamStats.ipynb"
   ]
  },
  {
   "cell_type": "code",
   "execution_count": 26,
   "id": "ab58744d",
   "metadata": {},
   "outputs": [
    {
     "name": "stdout",
     "output_type": "stream",
     "text": [
      "outcome file titled <teamInfo.csv> created.\n"
     ]
    }
   ],
   "source": [
    "getStatsForYear('4', '20172018')"
   ]
  },
  {
   "cell_type": "code",
   "execution_count": 17,
   "id": "d3f7a318",
   "metadata": {},
   "outputs": [
    {
     "name": "stdout",
     "output_type": "stream",
     "text": [
      "outcome file titled <playerInfo.csv> created.\n"
     ]
    }
   ],
   "source": [
    "getStatsForPerson('8476792', '20172018')"
   ]
  },
  {
   "cell_type": "code",
   "execution_count": null,
   "id": "450e0a94",
   "metadata": {},
   "outputs": [],
   "source": []
  },
  {
   "cell_type": "code",
   "execution_count": null,
   "id": "0f1a3794",
   "metadata": {},
   "outputs": [],
   "source": []
  }
 ],
 "metadata": {
  "kernelspec": {
   "display_name": "Python 3 (ipykernel)",
   "language": "python",
   "name": "python3"
  },
  "language_info": {
   "codemirror_mode": {
    "name": "ipython",
    "version": 3
   },
   "file_extension": ".py",
   "mimetype": "text/x-python",
   "name": "python",
   "nbconvert_exporter": "python",
   "pygments_lexer": "ipython3",
   "version": "3.11.3"
  }
 },
 "nbformat": 4,
 "nbformat_minor": 5
}
