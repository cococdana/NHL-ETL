{
 "cells": [
  {
   "cell_type": "code",
   "execution_count": 149,
   "id": "4c8a5d0d",
   "metadata": {},
   "outputs": [],
   "source": [
    "import pandas as pd\n",
    "import numpy as np\n",
    "import requests\n",
    "from pandas.core.frame import DataFrame\n",
    "import json\n",
    "import json\n",
    "import csv\n"
   ]
  },
  {
   "cell_type": "code",
   "execution_count": 150,
   "id": "a04d82bc",
   "metadata": {},
   "outputs": [],
   "source": [
    "def getStatsForPerson(person,year):\n",
    "    \n",
    "    ENDPOINT = \"https://statsapi.web.nhl.com/api/v1/people/\"\n",
    "    \n",
    "    # make a request to the endpoint\n",
    "    response = requests.get(f\"{ENDPOINT}{person}\") \n",
    "    #second request for player stats\n",
    "    response2 = requests.get(f\"{ENDPOINT}{person}\" +\"/stats/?stats=statsSingleSeason&season=\"+ f\"{year}\")\n",
    "    \n",
    "    if response.status_code == 200 & response2.status_code ==200: #make sure calls to APIs worked\n",
    "        \n",
    "        data = response.json()\n",
    "        \n",
    "        name = data['people'][0]['fullName']\n",
    "        playerNum = data['people'][0]['currentTeam']['id']\n",
    "        playerTeam = data['people'][0]['currentTeam']['name']\n",
    "        age = data['people'][0]['currentAge'] \n",
    "        pos = data['people'][0]['primaryPosition']['name']\n",
    "        rookie = data['people'][0]['rookie']\n",
    "        \n",
    "        data2 = response2.json()\n",
    "        \n",
    "        assists = data2['stats'][0]['splits'][0]['stat'][\"assists\"]\n",
    "        goals = data2['stats'][0]['splits'][0]['stat'][\"goals\"]\n",
    "        hits = data2['stats'][0]['splits'][0]['stat'][\"hits\"]\n",
    "        games = data2['stats'][0]['splits'][0]['stat'][\"games\"]\n",
    "        points= data2['stats'][0]['splits'][0]['stat'][\"points\"]\n",
    "        \n",
    "        #format csv output \n",
    "        playerID = \"Player ID: \"+ f'{person}'\n",
    "        name = \"Player Name: \"+ f'{name}'\n",
    "        playerTeam = \"Current Team: \"+ f'{playerTeam}'\n",
    "        age = \"Player Age: \"+ f'{age}'\n",
    "        playerNum = \"Player Number: \"+ f'{playerNum}'\n",
    "        pos = \"Player Position: \"+ f'{pos}'\n",
    "        rookie = \"Rookie?: \" +f'{rookie}'\n",
    "        assists = \"Assists: \"+ f'{assists}'\n",
    "        goals = \"Goals: \"+ f'{goals}'\n",
    "        hits = \"Hits: \"+ f'{hits}'\n",
    "        games = \"Games: \"+ f'{games}'\n",
    "        points = \"Points: \"+ f'{points}'\n",
    "      \n",
    "        # Save info in an array\n",
    "        nparray = np.array([playerID,name,playerTeam,age,playerNum,pos,rookie,assists,goals,hits,games,points],dtype=str)      \n",
    "        np.savetxt(\"playerInfo.csv\", nparray,fmt='%s', delimiter=\",\")\n",
    "\n",
    "\n",
    "    else:\n",
    "        raise Exception(response.text)\n",
    "\n"
   ]
  },
  {
   "cell_type": "code",
   "execution_count": 151,
   "id": "7a6475a6",
   "metadata": {},
   "outputs": [],
   "source": [
    "\n",
    "getStatsForPerson('8476792', '20172018')"
   ]
  },
  {
   "cell_type": "code",
   "execution_count": null,
   "id": "a572c8c2",
   "metadata": {},
   "outputs": [],
   "source": []
  }
 ],
 "metadata": {
  "kernelspec": {
   "display_name": "Python 3 (ipykernel)",
   "language": "python",
   "name": "python3"
  },
  "language_info": {
   "codemirror_mode": {
    "name": "ipython",
    "version": 3
   },
   "file_extension": ".py",
   "mimetype": "text/x-python",
   "name": "python",
   "nbconvert_exporter": "python",
   "pygments_lexer": "ipython3",
   "version": "3.11.3"
  }
 },
 "nbformat": 4,
 "nbformat_minor": 5
}
